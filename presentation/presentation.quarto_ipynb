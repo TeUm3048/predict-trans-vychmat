{
  "cells": [
    {
      "cell_type": "markdown",
      "metadata": {},
      "source": [
        "---\n",
        "title: \"Robast point cloub register\"\n",
        "author:\n",
        "  - name: Ivan Ryzhikov\n",
        "    email: iwanryzij@yandex.ru\n",
        "  - name: Mark Ilyasov\n",
        "format: \n",
        "  revealjs:\n",
        "    transition: slide\n",
        "editor: visual\n",
        "execute:\n",
        "  echo: false\n",
        "jupyter: python3\n",
        "---\n",
        "\n",
        "\n",
        "## Quarto\n",
        "\n",
        "Quarto enables you to weave together content and executable code into a finished presentation. To learn more about Quarto presentations see <https://quarto.org/docs/presentations/>.\n",
        "\n",
        "## Bullets\n",
        "\n",
        "When you click the **Render** button a document will be generated that includes:\n",
        "\n",
        "-   Content authored with markdown\n",
        "-   Output from executable code\n",
        "\n",
        "## Code\n",
        "\n",
        "When you click the **Render** button a presentation will be generated that includes both content and the output of embedded code. You can embed code like this:\n"
      ],
      "id": "9cac886a"
    },
    {
      "cell_type": "code",
      "metadata": {},
      "source": [
        "#| echo: true\n",
        "#| code-line-numbers: \"|1|2|3\"\n",
        "\n",
        "1 + 1\n",
        "sada = 2\n",
        "sada"
      ],
      "id": "5640a918",
      "execution_count": null,
      "outputs": []
    },
    {
      "cell_type": "markdown",
      "metadata": {},
      "source": [
        "## Check runs\n"
      ],
      "id": "cde00d57"
    },
    {
      "cell_type": "code",
      "metadata": {},
      "source": [
        "import numpy as np\n",
        "from ..src.python import cloud_generator\n",
        "from ..src.python import utils\n",
        "from ..src.python.registrars import ICP_registrar\n",
        "from ..src.python import view_data\n",
        "import plotly.io as pio\n",
        "pio.renderers.default = 'notebook'"
      ],
      "id": "4e6887ec",
      "execution_count": null,
      "outputs": []
    },
    {
      "cell_type": "code",
      "metadata": {},
      "source": [
        "def icp(source_pcd, target_pcd):\n",
        "    registrar = ICP_registrar(source_pcd, target_pcd, threshold=100)\n",
        "    registrar.register()\n",
        "    return registrar.get_registration_result()"
      ],
      "id": "e7ad52a1",
      "execution_count": null,
      "outputs": []
    },
    {
      "cell_type": "code",
      "metadata": {},
      "source": [
        "np.random.seed(111)\n",
        "NOISE_SCALE = 0.01\n",
        "VOXEL_SIZE = NOISE_SCALE * 3\n",
        "\n",
        "X = cloud_generator.generate_cloud_matrix(10000, 40)\n",
        "Y = utils.add_noise(X, NOISE_SCALE)\n",
        "Y = utils.random_permutation(Y)\n",
        "\n",
        "df = utils.estimate_metrics(Y, 5, icp)\n",
        "view_data.plot_comparison(Y)"
      ],
      "id": "5e3271c1",
      "execution_count": null,
      "outputs": []
    },
    {
      "cell_type": "markdown",
      "metadata": {},
      "source": [
        "## Check runs\n"
      ],
      "id": "7589b37b"
    },
    {
      "cell_type": "code",
      "metadata": {},
      "source": [
        "view_data.show_estimation_method_plot(df, title=\"ICP\")"
      ],
      "id": "ae4cc67b",
      "execution_count": null,
      "outputs": []
    }
  ],
  "metadata": {
    "kernelspec": {
      "name": "python3",
      "language": "python",
      "display_name": "Python 3 (ipykernel)",
      "path": "C:\\Projects\\predict-trans-vychmat\\.venv\\share\\jupyter\\kernels\\python3"
    }
  },
  "nbformat": 4,
  "nbformat_minor": 5
}